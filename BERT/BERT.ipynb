{
 "cells": [
  {
   "cell_type": "markdown",
   "metadata": {},
   "source": [
    "### Obtaining Testing and Training data"
   ]
  },
  {
   "cell_type": "code",
   "execution_count": 1,
   "metadata": {
    "_cell_guid": "b1076dfc-b9ad-4769-8c92-a6c4dae69d19",
    "_uuid": "8f2839f25d086af736a60e9eeb907d3b93b6e0e5",
    "execution": {
     "iopub.execute_input": "2025-04-15T03:00:46.401321Z",
     "iopub.status.busy": "2025-04-15T03:00:46.401085Z",
     "iopub.status.idle": "2025-04-15T03:00:49.005542Z",
     "shell.execute_reply": "2025-04-15T03:00:49.004829Z",
     "shell.execute_reply.started": "2025-04-15T03:00:46.401297Z"
    },
    "trusted": true
   },
   "outputs": [],
   "source": [
    "import os\n",
    "import numpy as np\n",
    "import pandas as pd\n",
    "import tensorflow as tf\n",
    "from sklearn.model_selection import train_test_split\n",
    "from sklearn.utils.class_weight import compute_class_weight\n",
    "from sklearn.metrics import classification_report, confusion_matrix, f1_score, accuracy_score, roc_curve, auc\n",
    "import matplotlib.pyplot as plt\n",
    "import seaborn as sns\n",
    "import tensorflow_text as text\n",
    "import tensorflow_hub as hub\n",
    "from tf_keras.callbacks import EarlyStopping, ReduceLROnPlateau, ModelCheckpoint\n",
    "\n",
    "np.random.seed(42)\n",
    "tf.random.set_seed(42)\n",
    "\n",
    "df = pd.read_csv(\"../train.csv\")\n",
    "df = df.drop(\"qid\", axis=1)"
   ]
  },
  {
   "cell_type": "code",
   "execution_count": null,
   "metadata": {
    "execution": {
     "iopub.execute_input": "2025-04-15T03:00:51.802971Z",
     "iopub.status.busy": "2025-04-15T03:00:51.80268Z",
     "iopub.status.idle": "2025-04-15T03:00:51.81121Z",
     "shell.execute_reply": "2025-04-15T03:00:51.810393Z",
     "shell.execute_reply.started": "2025-04-15T03:00:51.802948Z"
    },
    "trusted": true
   },
   "outputs": [],
   "source": [
    "df.head()"
   ]
  },
  {
   "cell_type": "markdown",
   "metadata": {},
   "source": [
    "## Train and Validation split"
   ]
  },
  {
   "cell_type": "code",
   "execution_count": 2,
   "metadata": {
    "execution": {
     "iopub.execute_input": "2025-04-15T03:37:04.524351Z",
     "iopub.status.busy": "2025-04-15T03:37:04.523973Z",
     "iopub.status.idle": "2025-04-15T03:37:05.437328Z",
     "shell.execute_reply": "2025-04-15T03:37:05.436358Z",
     "shell.execute_reply.started": "2025-04-15T03:37:04.524322Z"
    },
    "trusted": true
   },
   "outputs": [
    {
     "data": {
      "text/plain": [
       "(375806,)"
      ]
     },
     "execution_count": 2,
     "metadata": {},
     "output_type": "execute_result"
    }
   ],
   "source": [
    "train_df, val_df = train_test_split(df, train_size=0.01, test_size=0.001, stratify=df.target.values)\n",
    "x_train, y_train = train_df[\"question_text\"].values, train_df[\"target\"].values\n",
    "x_val, y_val = val_df[\"question_text\"].values, val_df[\"target\"].values\n",
    "\n",
    "X_test = pd.read_csv(\"../test.csv\")\n",
    "x_test = X_test[\"question_text\"]\n",
    "\n",
    "x_test.shape"
   ]
  },
  {
   "cell_type": "markdown",
   "metadata": {},
   "source": [
    "## Download BERT"
   ]
  },
  {
   "cell_type": "code",
   "execution_count": 3,
   "metadata": {
    "execution": {
     "iopub.execute_input": "2025-04-15T03:00:59.1438Z",
     "iopub.status.busy": "2025-04-15T03:00:59.143457Z",
     "iopub.status.idle": "2025-04-15T03:01:09.99283Z",
     "shell.execute_reply": "2025-04-15T03:01:09.992166Z",
     "shell.execute_reply.started": "2025-04-15T03:00:59.143771Z"
    },
    "trusted": true
   },
   "outputs": [],
   "source": [
    "preprocessor = hub.KerasLayer(\"https://kaggle.com/models/tensorflow/bert/frameworks/TensorFlow2/variations/en-uncased-preprocess/versions/3\")\n",
    "encoder = hub.KerasLayer(\"https://www.kaggle.com/models/tensorflow/bert/frameworks/TensorFlow2/variations/en-uncased-l-12-h-768-a-12/versions/4\", trainable=True)"
   ]
  },
  {
   "cell_type": "markdown",
   "metadata": {},
   "source": [
    "## Processing Data"
   ]
  },
  {
   "cell_type": "code",
   "execution_count": 4,
   "metadata": {
    "execution": {
     "iopub.execute_input": "2025-04-15T03:01:13.575397Z",
     "iopub.status.busy": "2025-04-15T03:01:13.575053Z",
     "iopub.status.idle": "2025-04-15T03:01:13.809753Z",
     "shell.execute_reply": "2025-04-15T03:01:13.808969Z",
     "shell.execute_reply.started": "2025-04-15T03:01:13.575367Z"
    },
    "trusted": true
   },
   "outputs": [],
   "source": [
    "import tf_keras as keras\n",
    "\n",
    "text_input = keras.layers.Input(shape=(), dtype=tf.string)\n",
    "\n",
    "encoder_inputs = preprocessor(text_input)\n",
    "outputs = encoder(encoder_inputs)\n",
    "pooled_output = outputs[\"pooled_output\"]"
   ]
  },
  {
   "cell_type": "code",
   "execution_count": 5,
   "metadata": {
    "execution": {
     "iopub.execute_input": "2025-04-15T03:01:18.397826Z",
     "iopub.status.busy": "2025-04-15T03:01:18.397537Z",
     "iopub.status.idle": "2025-04-15T03:01:18.576926Z",
     "shell.execute_reply": "2025-04-15T03:01:18.576074Z",
     "shell.execute_reply.started": "2025-04-15T03:01:18.397802Z"
    },
    "trusted": true
   },
   "outputs": [
    {
     "data": {
      "image/png": "[encoded data removed]",
      "text/plain": [
       "<Figure size 600x400 with 1 Axes>"
      ]
     },
     "metadata": {},
     "output_type": "display_data"
    }
   ],
   "source": [
    "from sklearn.utils.class_weight import compute_class_weight\n",
    "import numpy as np\n",
    "\n",
    "classWeights = compute_class_weight(\n",
    "    class_weight='balanced',\n",
    "    classes=np.unique(y_train),\n",
    "    y=y_train\n",
    ")\n",
    "\n",
    "classWeightDict = dict(enumerate(classWeights))\n",
    "plt.figure(figsize=(6, 4))\n",
    "plt.bar(classWeightDict.keys(), classWeightDict.values(), color='skyblue')\n",
    "plt.xlabel('Class')\n",
    "plt.ylabel('Weight')\n",
    "plt.title('Class Weights')\n",
    "plt.xticks(list(classWeightDict.keys()))\n",
    "plt.grid(axis='y', linestyle='--', alpha=0.7)\n",
    "plt.tight_layout()\n",
    "plt.show()"
   ]
  },
  {
   "cell_type": "markdown",
   "metadata": {},
   "source": [
    "### Model Definition"
   ]
  },
  {
   "cell_type": "code",
   "execution_count": 6,
   "metadata": {
    "execution": {
     "iopub.execute_input": "2025-04-15T03:01:24.861405Z",
     "iopub.status.busy": "2025-04-15T03:01:24.861066Z",
     "iopub.status.idle": "2025-04-15T03:01:24.894449Z",
     "shell.execute_reply": "2025-04-15T03:01:24.89379Z",
     "shell.execute_reply.started": "2025-04-15T03:01:24.861377Z"
    },
    "trusted": true
   },
   "outputs": [
    {
     "name": "stderr",
     "output_type": "stream",
     "text": [
      "WARNING:absl:At this time, the v2.11+ optimizer `tf.keras.optimizers.Adam` runs slowly on M1/M2 Macs, please use the legacy TF-Keras optimizer instead, located at `tf.keras.optimizers.legacy.Adam`.\n"
     ]
    }
   ],
   "source": [
    "x = keras.layers.Dropout(0.5, name=\"dropout-1\")(pooled_output)\n",
    "x = keras.layers.Dense(16, activation='relu', name=\"dense-16\")(x)\n",
    "\n",
    "output = keras.layers.Dense(1, activation ='sigmoid', name=\"output\")(x)\n",
    "\n",
    "model = keras.Model(inputs = [text_input], outputs = [output])\n",
    "model.compile(\n",
    "    optimizer=keras.optimizers.Adam(\n",
    "    learning_rate=2e-5), \n",
    "    loss='binary_crossentropy', \n",
    "    metrics=['accuracy']\n",
    ")"
   ]
  },
  {
   "cell_type": "markdown",
   "metadata": {},
   "source": [
    "## Training"
   ]
  },
  {
   "cell_type": "code",
   "execution_count": null,
   "metadata": {
    "execution": {
     "iopub.execute_input": "2025-04-15T03:01:28.156628Z",
     "iopub.status.busy": "2025-04-15T03:01:28.156282Z",
     "iopub.status.idle": "2025-04-15T03:32:21.176953Z",
     "shell.execute_reply": "2025-04-15T03:32:21.17597Z",
     "shell.execute_reply.started": "2025-04-15T03:01:28.156602Z"
    },
    "trusted": true
   },
   "outputs": [],
   "source": [
    "early_stopping = EarlyStopping(\n",
    "    monitor=\"val_loss\", \n",
    "    patience=3, \n",
    "    verbose=1\n",
    ")\n",
    "\n",
    "reduce_lr = ReduceLROnPlateau(\n",
    "    monitor=\"val_loss\", \n",
    "    factor=0.5, patience=2, \n",
    "    min_lr=1e-6, \n",
    "    verbose=1\n",
    ")\n",
    "\n",
    "history = model.fit(\n",
    "    x_train, y_train,\n",
    "    validation_data=(x_val, y_val),\n",
    "    epochs=5,\n",
    "    verbose=1,\n",
    "    class_weight=classWeightDict,\n",
    "    callbacks=[early_stopping, reduce_lr]\n",
    ")"
   ]
  },
  {
   "cell_type": "code",
   "execution_count": null,
   "metadata": {
    "execution": {
     "iopub.execute_input": "2025-04-15T03:32:41.093336Z",
     "iopub.status.busy": "2025-04-15T03:32:41.092955Z",
     "iopub.status.idle": "2025-04-15T03:32:41.596116Z",
     "shell.execute_reply": "2025-04-15T03:32:41.595156Z",
     "shell.execute_reply.started": "2025-04-15T03:32:41.093306Z"
    },
    "trusted": true
   },
   "outputs": [],
   "source": [
    "# Get the history values for accuracy and loss\n",
    "train_accuracy = history.history['accuracy']\n",
    "val_accuracy = history.history['val_accuracy']\n",
    "train_loss = history.history['loss']\n",
    "val_loss = history.history['val_loss']\n",
    "\n",
    "# Create two subplots: one for accuracy and one for loss\n",
    "fig, (ax1, ax2) = plt.subplots(1, 2, figsize=(16, 6))\n",
    "\n",
    "# Plot training and validation accuracy\n",
    "ax1.plot(range(1, len(train_accuracy) + 1), train_accuracy, label='Train Accuracy', color='blue')\n",
    "ax1.plot(range(1, len(val_accuracy) + 1), val_accuracy, label='Validation Accuracy', color='orange')\n",
    "ax1.set_title('Training and Validation Accuracy over Epochs')\n",
    "ax1.set_xlabel('Epochs')\n",
    "ax1.set_ylabel('Accuracy')\n",
    "ax1.legend()\n",
    "ax1.grid(True)\n",
    "\n",
    "# Plot training and validation loss\n",
    "ax2.plot(range(1, len(train_loss) + 1), train_loss, label='Train Loss', color='blue')\n",
    "ax2.plot(range(1, len(val_loss) + 1), val_loss, label='Validation Loss', color='orange')\n",
    "ax2.set_title('Training and Validation Loss over Epochs')\n",
    "ax2.set_xlabel('Epochs')\n",
    "ax2.set_ylabel('Loss')\n",
    "ax2.legend()\n",
    "ax2.grid(True)\n",
    "\n",
    "# Show the plots\n",
    "plt.tight_layout()\n",
    "plt.show()"
   ]
  },
  {
   "cell_type": "markdown",
   "metadata": {},
   "source": [
    "## Prediction and Test Accuracy"
   ]
  },
  {
   "cell_type": "code",
   "execution_count": null,
   "metadata": {
    "execution": {
     "iopub.execute_input": "2025-04-15T03:32:58.284224Z",
     "iopub.status.busy": "2025-04-15T03:32:58.28386Z",
     "iopub.status.idle": "2025-04-15T03:33:12.07639Z",
     "shell.execute_reply": "2025-04-15T03:33:12.075366Z",
     "shell.execute_reply.started": "2025-04-15T03:32:58.284197Z"
    },
    "trusted": true
   },
   "outputs": [],
   "source": [
    "from sklearn.metrics import precision_score, recall_score, f1_score, accuracy_score, classification_report\n",
    "\n",
    "# Predictions\n",
    "y_pred_probs = model.predict(x_val).ravel()\n",
    "y_pred = (y_pred_probs > 0.5).astype(int)\n",
    "\n",
    "# Calculate metrics\n",
    "accuracy = accuracy_score(y_val, y_pred)\n",
    "precision = precision_score(y_val, y_pred)\n",
    "recall = recall_score(y_val, y_pred)\n",
    "f1 = f1_score(y_val, y_pred)\n",
    "\n",
    "# Print Classification Report\n",
    "print(\"Classification Report:\\n\", classification_report(y_val, y_pred))\n",
    "\n",
    "# Create a bar chart for precision, recall, F1-score, and accuracy\n",
    "metrics = [precision, recall, f1, accuracy]\n",
    "metric_names = ['Precision', 'Recall', 'F1-Score', 'Accuracy']\n",
    "\n",
    "# Plotting\n",
    "plt.figure(figsize=(8, 6))\n",
    "plt.bar(metric_names, metrics, color=['blue', 'green', 'orange', 'red'])\n",
    "plt.title('Model Performance Metrics')\n",
    "plt.ylim(0, 1)\n",
    "plt.ylabel('Score')\n",
    "plt.show()"
   ]
  },
  {
   "cell_type": "markdown",
   "metadata": {},
   "source": [
    "## Confusion Matrix"
   ]
  },
  {
   "cell_type": "code",
   "execution_count": null,
   "metadata": {
    "execution": {
     "iopub.execute_input": "2025-04-15T03:33:19.824664Z",
     "iopub.status.busy": "2025-04-15T03:33:19.824382Z",
     "iopub.status.idle": "2025-04-15T03:33:19.992808Z",
     "shell.execute_reply": "2025-04-15T03:33:19.991893Z",
     "shell.execute_reply.started": "2025-04-15T03:33:19.824641Z"
    },
    "trusted": true
   },
   "outputs": [],
   "source": [
    "import seaborn as sns\n",
    "cm = confusion_matrix(y_val, y_pred)\n",
    "\n",
    "plt.figure(figsize=(6, 4))\n",
    "sns.heatmap(cm, annot=True, fmt='d', cmap='Blues')\n",
    "plt.title(\"Confusion Matrix\")\n",
    "plt.xlabel(\"Predicted\")\n",
    "plt.ylabel(\"Actual\")\n",
    "plt.show()"
   ]
  },
  {
   "cell_type": "markdown",
   "metadata": {},
   "source": [
    "## ROC Curve"
   ]
  },
  {
   "cell_type": "code",
   "execution_count": null,
   "metadata": {
    "execution": {
     "iopub.execute_input": "2025-04-15T03:33:28.272666Z",
     "iopub.status.busy": "2025-04-15T03:33:28.272374Z",
     "iopub.status.idle": "2025-04-15T03:33:28.452907Z",
     "shell.execute_reply": "2025-04-15T03:33:28.452011Z",
     "shell.execute_reply.started": "2025-04-15T03:33:28.272643Z"
    },
    "trusted": true
   },
   "outputs": [],
   "source": [
    "from sklearn.metrics import roc_curve, auc\n",
    "\n",
    "fpr, tpr, _ = roc_curve(y_val, y_pred_probs)\n",
    "roc_auc = auc(fpr, tpr)\n",
    "\n",
    "plt.figure(figsize=(6, 4))\n",
    "plt.plot(fpr, tpr, label=f'AUC = {roc_auc:.2f}')\n",
    "plt.plot([0, 1], [0, 1], linestyle='--')\n",
    "plt.title('ROC Curve')\n",
    "plt.xlabel('False Positive Rate')\n",
    "plt.ylabel('True Positive Rate')\n",
    "plt.legend()\n",
    "plt.grid(True)\n",
    "plt.show()"
   ]
  },
  {
   "cell_type": "markdown",
   "metadata": {},
   "source": [
    "## Submission"
   ]
  },
  {
   "cell_type": "code",
   "execution_count": null,
   "metadata": {
    "execution": {
     "iopub.execute_input": "2025-04-15T03:37:10.578816Z",
     "iopub.status.busy": "2025-04-15T03:37:10.578474Z",
     "iopub.status.idle": "2025-04-15T03:38:47.558845Z",
     "shell.execute_reply": "2025-04-15T03:38:47.558075Z",
     "shell.execute_reply.started": "2025-04-15T03:37:10.578784Z"
    },
    "trusted": true
   },
   "outputs": [],
   "source": [
    "def submit():\n",
    "    submission = X_test[['qid']].copy()\n",
    "    prediction = model.predict(x_test)\n",
    "    pred = (prediction > 0.5).astype(int)\n",
    "    submission['prediction'] = pred\n",
    "    submission.to_csv('submission.csv', index=False)\n",
    "    return submission\n",
    "\n",
    "submit()"
   ]
  }
 ],
 "metadata": {
  "kaggle": {
   "accelerator": "nvidiaTeslaT4",
   "dataSources": [
    {
     "databundleVersionId": 290346,
     "sourceId": 10737,
     "sourceType": "competition"
    },
    {
     "modelId": 244,
     "modelInstanceId": 1882,
     "sourceId": 2580,
     "sourceType": "modelInstanceVersion"
    },
    {
     "modelId": 244,
     "modelInstanceId": 2180,
     "sourceId": 2938,
     "sourceType": "modelInstanceVersion"
    }
   ],
   "dockerImageVersionId": 30919,
   "isGpuEnabled": true,
   "isInternetEnabled": false,
   "language": "python",
   "sourceType": "notebook"
  },
  "kernelspec": {
   "display_name": "base",
   "language": "python",
   "name": "python3"
  },
  "language_info": {
   "codemirror_mode": {
    "name": "ipython",
    "version": 3
   },
   "file_extension": ".py",
   "mimetype": "text/x-python",
   "name": "python",
   "nbconvert_exporter": "python",
   "pygments_lexer": "ipython3",
   "version": "3.12.2"
  }
 },
 "nbformat": 4,
 "nbformat_minor": 4
}
